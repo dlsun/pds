{
 "cells": [
  {
   "cell_type": "markdown",
   "metadata": {
    "colab_type": "text",
    "id": "XTPLBCWKzfWS"
   },
   "source": [
    "# 7.3 Visualizing Higher Dimensions"
   ]
  },
  {
   "cell_type": "markdown",
   "metadata": {
    "colab_type": "text",
    "id": "f1mm_fCWm9dO"
   },
   "source": [
    ">\"I am a Tralfamadorian, seeing all time as you might see a stretch of the Rocky Mountains. All time is all time. It does not change. It does not lend itself to warnings or explanations. It simply is.\" \n",
    ">\n",
    ">-Kurt Vonnegate in \"Slaughterhour-Five\"\n",
    "\n",
    "We unfortunately are not Tralfamadorians. We instead we are three dimensional beings who can't visually see a fourth dimension like its a location on the Rocky Mountains. However, this doesn't mean that the fourth dimension is meaingless to us. We can derive a lot of understand from understanding the higher dimensions. The problem is, we can't see it and thus we can't plot it. \n",
    "\n",
    "Fortunately, very clever mathematicians throughout history has invented techniques to allow us to simulate what the higher dimension would look like. The rest of the section will discuss these techniques."
   ]
  },
  {
   "cell_type": "markdown",
   "metadata": {
    "colab_type": "text",
    "id": "XR-JkcQuwozv"
   },
   "source": [
    "## Using Size and Color\n",
    "\n",
    "This is more of a review from previous sections but one way to visualize more dimensions is by using the size and color attributes of your scatter plots. This is rather intuitive. "
   ]
  },
  {
   "cell_type": "code",
   "execution_count": 0,
   "metadata": {
    "colab": {
     "base_uri": "https://localhost:8080/",
     "height": 368
    },
    "colab_type": "code",
    "id": "kgChDoxMwyKa",
    "outputId": "cc578404-1e67-476a-f736-e070bc9c233e"
   },
   "outputs": [
    {
     "data": {
      "text/html": [
       "\n",
       "<div id=\"altair-viz-75d16bce5abb4012b9011722a14c7363\"></div>\n",
       "<script type=\"text/javascript\">\n",
       "  (function(spec, embedOpt){\n",
       "    let outputDiv = document.currentScript.previousElementSibling;\n",
       "    if (outputDiv.id !== \"altair-viz-75d16bce5abb4012b9011722a14c7363\") {\n",
       "      outputDiv = document.getElementById(\"altair-viz-75d16bce5abb4012b9011722a14c7363\");\n",
       "    }\n",
       "    const paths = {\n",
       "      \"vega\": \"https://cdn.jsdelivr.net/npm//vega@5?noext\",\n",
       "      \"vega-lib\": \"https://cdn.jsdelivr.net/npm//vega-lib?noext\",\n",
       "      \"vega-lite\": \"https://cdn.jsdelivr.net/npm//vega-lite@4.8.1?noext\",\n",
       "      \"vega-embed\": \"https://cdn.jsdelivr.net/npm//vega-embed@6?noext\",\n",
       "    };\n",
       "\n",
       "    function loadScript(lib) {\n",
       "      return new Promise(function(resolve, reject) {\n",
       "        var s = document.createElement('script');\n",
       "        s.src = paths[lib];\n",
       "        s.async = true;\n",
       "        s.onload = () => resolve(paths[lib]);\n",
       "        s.onerror = () => reject(`Error loading script: ${paths[lib]}`);\n",
       "        document.getElementsByTagName(\"head\")[0].appendChild(s);\n",
       "      });\n",
       "    }\n",
       "\n",
       "    function showError(err) {\n",
       "      outputDiv.innerHTML = `<div class=\"error\" style=\"color:red;\">${err}</div>`;\n",
       "      throw err;\n",
       "    }\n",
       "\n",
       "    function displayChart(vegaEmbed) {\n",
       "      vegaEmbed(outputDiv, spec, embedOpt)\n",
       "        .catch(err => showError(`Javascript Error: ${err.message}<br>This usually means there's a typo in your chart specification. See the javascript console for the full traceback.`));\n",
       "    }\n",
       "\n",
       "    if(typeof define === \"function\" && define.amd) {\n",
       "      requirejs.config({paths});\n",
       "      require([\"vega-embed\"], displayChart, err => showError(`Error loading script: ${err.message}`));\n",
       "    } else if (typeof vegaEmbed === \"function\") {\n",
       "      displayChart(vegaEmbed);\n",
       "    } else {\n",
       "      loadScript(\"vega\")\n",
       "        .then(() => loadScript(\"vega-lite\"))\n",
       "        .then(() => loadScript(\"vega-embed\"))\n",
       "        .catch(showError)\n",
       "        .then(() => displayChart(vegaEmbed));\n",
       "    }\n",
       "  })({\"config\": {\"view\": {\"continuousWidth\": 400, \"continuousHeight\": 300}}, \"data\": {\"name\": \"data-48d12def23bfff0b8e5b8e7fd22dc9b6\"}, \"mark\": \"circle\", \"encoding\": {\"color\": {\"type\": \"quantitative\", \"field\": \"summer\"}, \"size\": {\"type\": \"quantitative\", \"field\": \"win\"}, \"x\": {\"type\": \"quantitative\", \"field\": \"age\", \"scale\": {\"zero\": false}}, \"y\": {\"type\": \"quantitative\", \"field\": \"sep\", \"scale\": {\"zero\": false}}}, \"$schema\": \"https://vega.github.io/schema/vega-lite/v4.8.1.json\", \"datasets\": {\"data-48d12def23bfff0b8e5b8e7fd22dc9b6\": [{\"year\": 1952, \"price\": 37.0, \"summer\": 17.1, \"har\": 160, \"sep\": 14.3, \"win\": 600, \"age\": 40}, {\"year\": 1953, \"price\": 63.0, \"summer\": 16.7, \"har\": 80, \"sep\": 17.3, \"win\": 690, \"age\": 39}, {\"year\": 1955, \"price\": 45.0, \"summer\": 17.1, \"har\": 130, \"sep\": 16.8, \"win\": 502, \"age\": 37}, {\"year\": 1957, \"price\": 22.0, \"summer\": 16.1, \"har\": 110, \"sep\": 16.2, \"win\": 420, \"age\": 35}, {\"year\": 1958, \"price\": 18.0, \"summer\": 16.4, \"har\": 187, \"sep\": 19.1, \"win\": 582, \"age\": 34}, {\"year\": 1959, \"price\": 66.0, \"summer\": 17.5, \"har\": 187, \"sep\": 18.7, \"win\": 485, \"age\": 33}, {\"year\": 1960, \"price\": 14.0, \"summer\": 16.4, \"har\": 290, \"sep\": 15.8, \"win\": 763, \"age\": 32}, {\"year\": 1961, \"price\": 100.0, \"summer\": 17.3, \"har\": 38, \"sep\": 20.4, \"win\": 830, \"age\": 31}, {\"year\": 1962, \"price\": 33.0, \"summer\": 16.3, \"har\": 52, \"sep\": 17.2, \"win\": 697, \"age\": 30}, {\"year\": 1963, \"price\": 17.0, \"summer\": 15.7, \"har\": 155, \"sep\": 16.2, \"win\": 608, \"age\": 29}, {\"year\": 1964, \"price\": 31.0, \"summer\": 17.3, \"har\": 96, \"sep\": 18.8, \"win\": 402, \"age\": 28}, {\"year\": 1965, \"price\": 11.0, \"summer\": 15.4, \"har\": 267, \"sep\": 14.8, \"win\": 602, \"age\": 27}, {\"year\": 1966, \"price\": 47.0, \"summer\": 16.5, \"har\": 86, \"sep\": 18.4, \"win\": 819, \"age\": 26}, {\"year\": 1967, \"price\": 19.0, \"summer\": 16.2, \"har\": 118, \"sep\": 16.5, \"win\": 714, \"age\": 25}, {\"year\": 1968, \"price\": 11.0, \"summer\": 16.2, \"har\": 292, \"sep\": 16.4, \"win\": 610, \"age\": 24}, {\"year\": 1969, \"price\": 12.0, \"summer\": 16.5, \"har\": 244, \"sep\": 16.6, \"win\": 575, \"age\": 23}, {\"year\": 1970, \"price\": 40.0, \"summer\": 16.7, \"har\": 89, \"sep\": 18.0, \"win\": 622, \"age\": 22}, {\"year\": 1971, \"price\": 27.0, \"summer\": 16.8, \"har\": 112, \"sep\": 16.9, \"win\": 551, \"age\": 21}, {\"year\": 1972, \"price\": 10.0, \"summer\": 15.0, \"har\": 158, \"sep\": 14.6, \"win\": 536, \"age\": 20}, {\"year\": 1973, \"price\": 16.0, \"summer\": 17.1, \"har\": 123, \"sep\": 17.9, \"win\": 376, \"age\": 19}, {\"year\": 1974, \"price\": 11.0, \"summer\": 16.3, \"har\": 184, \"sep\": 16.2, \"win\": 574, \"age\": 18}, {\"year\": 1975, \"price\": 30.0, \"summer\": 16.9, \"har\": 171, \"sep\": 17.2, \"win\": 572, \"age\": 17}, {\"year\": 1976, \"price\": 25.0, \"summer\": 17.6, \"har\": 247, \"sep\": 16.1, \"win\": 418, \"age\": 16}, {\"year\": 1977, \"price\": 11.0, \"summer\": 15.6, \"har\": 87, \"sep\": 16.8, \"win\": 821, \"age\": 15}, {\"year\": 1978, \"price\": 27.0, \"summer\": 15.8, \"har\": 51, \"sep\": 17.4, \"win\": 763, \"age\": 14}, {\"year\": 1979, \"price\": 21.0, \"summer\": 16.2, \"har\": 122, \"sep\": 17.3, \"win\": 717, \"age\": 13}, {\"year\": 1980, \"price\": 14.0, \"summer\": 16.0, \"har\": 74, \"sep\": 18.4, \"win\": 578, \"age\": 12}, {\"year\": 1981, \"price\": null, \"summer\": 17.0, \"har\": 111, \"sep\": 18.0, \"win\": 535, \"age\": 11}, {\"year\": 1982, \"price\": null, \"summer\": 17.4, \"har\": 162, \"sep\": 18.5, \"win\": 712, \"age\": 10}, {\"year\": 1983, \"price\": null, \"summer\": 17.4, \"har\": 119, \"sep\": 17.9, \"win\": 845, \"age\": 9}, {\"year\": 1984, \"price\": null, \"summer\": 16.5, \"har\": 119, \"sep\": 16.0, \"win\": 591, \"age\": 8}, {\"year\": 1985, \"price\": null, \"summer\": 16.8, \"har\": 38, \"sep\": 18.9, \"win\": 744, \"age\": 7}, {\"year\": 1986, \"price\": null, \"summer\": 16.3, \"har\": 171, \"sep\": 17.5, \"win\": 563, \"age\": 6}, {\"year\": 1987, \"price\": null, \"summer\": 17.0, \"har\": 115, \"sep\": 18.9, \"win\": 452, \"age\": 5}, {\"year\": 1988, \"price\": null, \"summer\": 17.1, \"har\": 59, \"sep\": 16.8, \"win\": 808, \"age\": 4}, {\"year\": 1989, \"price\": null, \"summer\": 18.6, \"har\": 82, \"sep\": 18.4, \"win\": 443, \"age\": 3}, {\"year\": 1990, \"price\": null, \"summer\": 18.7, \"har\": 80, \"sep\": 19.3, \"win\": 468, \"age\": 2}, {\"year\": 1991, \"price\": null, \"summer\": 17.7, \"har\": 183, \"sep\": 20.4, \"win\": 570, \"age\": 1}]}}, {\"mode\": \"vega-lite\"});\n",
       "</script>"
      ],
      "text/plain": [
       "alt.Chart(...)"
      ]
     },
     "execution_count": 30,
     "metadata": {
      "tags": []
     },
     "output_type": "execute_result"
    }
   ],
   "source": [
    "import pandas as pd\n",
    "from scipy import stats\n",
    "from sklearn.linear_model import LinearRegression\n",
    "from sklearn.preprocessing import LabelEncoder, StandardScaler\n",
    "import altair as alt\n",
    "\n",
    "df_bordeaux = pd.read_csv(\"http://dlsun.github.io/pods/data/bordeaux.csv\")\n",
    "\n",
    "alt.Chart(df_bordeaux).mark_circle().encode(\n",
    "    alt.X('age',\n",
    "        scale=alt.Scale(zero=False)\n",
    "    ),\n",
    "    alt.Y('sep',\n",
    "        scale=alt.Scale(zero=False)\n",
    "    ),\n",
    "    color=\"summer\",\n",
    "    size=\"win\"\n",
    ")"
   ]
  },
  {
   "cell_type": "markdown",
   "metadata": {
    "colab_type": "text",
    "id": "gxV83MG_y2LJ"
   },
   "source": [
    "I am sure you can see the limitations of this method: you can only go up for 4 dimensions (5 if you use a 3-D scatter plot). This is still worth mentioning as sometimes, this may be all you need. \n",
    "\n",
    "For higher dimensions, we should consider either feature selection or feature reduction. "
   ]
  },
  {
   "cell_type": "markdown",
   "metadata": {
    "colab_type": "text",
    "id": "tlWDTyDsr5Zv"
   },
   "source": [
    "## Feature Selection \n",
    "\n",
    "If we want to compress 10 dimensions worth of data into 2 dimensions, we're bound to lose some detail during that compression. We can measure how much detail we kept at the end with the explained variance ratio which gives the percentage of variance/detail we kept after the compression. The higher the ratio, the more variance and detail we kept. \n",
    "\n",
    "One way very simple, almost trivial, way to only visualize higher dimensional data is to only plot the two dimensions that explains the most variation in the data. "
   ]
  },
  {
   "cell_type": "code",
   "execution_count": 0,
   "metadata": {
    "colab": {
     "base_uri": "https://localhost:8080/",
     "height": 136
    },
    "colab_type": "code",
    "id": "g9kxLPD30dxa",
    "outputId": "c1aedb62-573b-406c-cfa6-844ab4054122"
   },
   "outputs": [
    {
     "data": {
      "text/plain": [
       "summer    0.343538\n",
       "sep       0.323582\n",
       "age       0.206936\n",
       "year      0.206936\n",
       "har       0.199621\n",
       "win       0.053456\n",
       "Name: R^2 Values, dtype: float64"
      ]
     },
     "execution_count": 31,
     "metadata": {
      "tags": []
     },
     "output_type": "execute_result"
    }
   ],
   "source": [
    "sclr = StandardScaler()\n",
    "df_bordeaux = pd.DataFrame(sclr.fit_transform(df_bordeaux.dropna()), columns=df_bordeaux.columns)\n",
    "\n",
    "X = df_bordeaux.drop(\"price\", axis=1)\n",
    "y = df_bordeaux[\"price\"]\n",
    "\n",
    "reg = LinearRegression()\n",
    "reg.fit(X, y)\n",
    "\n",
    "scores = pd.Series(dtype=float, name=\"R^2 Values\")\n",
    "for column in X.columns: \n",
    "    reg = LinearRegression()\n",
    "    reg.fit(X[[column]], y)\n",
    "    scores[column] = reg.score(X[[column]], y)\n",
    "\n",
    "scores.sort_values(ascending=False)"
   ]
  },
  {
   "cell_type": "markdown",
   "metadata": {
    "colab_type": "text",
    "id": "qHprVgDLxKyE"
   },
   "source": [
    "As we can see above, average summer temperature **summer** and average september temperature **sep** are the two variables that explain the most variance in the quality of the wine **price**. Thus, if we want to get the best representation of the dataset with only two dimensions, we can make a scatterplot of **summer** vs **sep**. However, even with the two variables that explain the most variation, we can only capture 33% of the variation of the original data. The other 66% is lost to the other features we chose to ignore. "
   ]
  },
  {
   "cell_type": "code",
   "execution_count": 0,
   "metadata": {
    "colab": {
     "base_uri": "https://localhost:8080/",
     "height": 330
    },
    "colab_type": "code",
    "id": "FcUCeYGOx2nP",
    "outputId": "16dc19dd-f2ac-44b7-8ac6-0236cac283d4"
   },
   "outputs": [
    {
     "name": "stdout",
     "output_type": "stream",
     "text": [
      "% Variance Explained: 0.3333333333333333\n",
      "\n"
     ]
    },
    {
     "data": {
      "text/plain": [
       "<matplotlib.axes._subplots.AxesSubplot at 0x7f7e1fdaecc0>"
      ]
     },
     "execution_count": 32,
     "metadata": {
      "tags": []
     },
     "output_type": "execute_result"
    },
    {
     "data": {
      "image/png": "[encoded data removed]",
      "text/plain": [
       "<Figure size 432x288 with 1 Axes>"
      ]
     },
     "metadata": {
      "needs_background": "light",
      "tags": []
     },
     "output_type": "display_data"
    }
   ],
   "source": [
    "explained_var = X[[\"summer\", \"sep\"]].var(axis=0).sum() / X.var(axis=0).sum() \n",
    "\n",
    "print(\"% Variance Explained:\", explained_var, end=\"\\n\\n\")\n",
    "df_bordeaux.plot.scatter(x=\"summer\", y=\"sep\")"
   ]
  },
  {
   "cell_type": "markdown",
   "metadata": {
    "colab_type": "text",
    "id": "Y6gWdO1CINp-"
   },
   "source": [
    "Additionally, if we look below, using only two features has hindered our predictive accuracy. This sucks! Fortunately, some very clever mathematicians came up with ways to get around this. "
   ]
  },
  {
   "cell_type": "code",
   "execution_count": 0,
   "metadata": {
    "colab": {
     "base_uri": "https://localhost:8080/",
     "height": 68
    },
    "colab_type": "code",
    "id": "l7re2E6KHUbs",
    "outputId": "24c2f5c2-ff71-420e-874c-2bbdee6f9a8f"
   },
   "outputs": [
    {
     "name": "stdout",
     "output_type": "stream",
     "text": [
      "All Features:\t\t 0.7526018827767169\n",
      "With PCA Features:\t 0.4633153344681292\n",
      "\n"
     ]
    }
   ],
   "source": [
    "reg = LinearRegression()\n",
    "\n",
    "reg.fit(X, y)\n",
    "print(\"All Features:\\t\\t\", reg.score(X, y))\n",
    "reg.fit(X[[\"summer\", \"sep\"]], y)\n",
    "print(\"With PCA Features:\\t\", reg.score(X[[\"summer\", \"sep\"]], y), end=\"\\n\\n\")"
   ]
  },
  {
   "cell_type": "markdown",
   "metadata": {
    "colab_type": "text",
    "id": "tflTZWS688xW"
   },
   "source": [
    "## Dimensionality Reduction\n",
    "\n",
    "With feature selection, we were only able to capture 33% of the original variance, which isn't great. To capture more variation while still remaining in two variables, have to utilize some clever math.\n",
    "\n",
    "These clever mathematical techniques are known as feature creation, where we try to create new variables that helps us visualize higher dimensional data. There are many different techniques for dimensionality reduction all of which attempts to accomplish different things. Let's start off with the simplest and most popular one: **Principle Component Analysis**."
   ]
  },
  {
   "cell_type": "markdown",
   "metadata": {
    "colab_type": "text",
    "id": "cZ52OQlGAm6Q"
   },
   "source": [
    "### Principle Component Analysis (PCA)\n",
    "\n",
    "Simply put, Principle Component Analysis create new features that maximizes variation. What PCA is **not** doing is feature selection, rather it is creating an entirely new arbitrary feature that is a combination of all the features. \n",
    "\n",
    "PCA involves some simple linear algebra, but SciKit-Learn has a PCA implementation. Note that all dimensionality reduction algorithms in SciKit-Learn is operated very similarity to machine learning algorithms you learned in the previous chapters. Create the object and then run `fit()` or `fit_transform()`."
   ]
  },
  {
   "cell_type": "code",
   "execution_count": 0,
   "metadata": {
    "colab": {
     "base_uri": "https://localhost:8080/",
     "height": 255
    },
    "colab_type": "code",
    "id": "FESc4NoI8-3v",
    "outputId": "1d1b00d1-65f5-40dd-ca5f-93f9ba84ef7c"
   },
   "outputs": [
    {
     "name": "stdout",
     "output_type": "stream",
     "text": [
      "\n",
      "% Variance Explained: 0.6462543462926849\n",
      "\n"
     ]
    },
    {
     "data": {
      "text/html": [
       "<div>\n",
       "<style scoped>\n",
       "    .dataframe tbody tr th:only-of-type {\n",
       "        vertical-align: middle;\n",
       "    }\n",
       "\n",
       "    .dataframe tbody tr th {\n",
       "        vertical-align: top;\n",
       "    }\n",
       "\n",
       "    .dataframe thead th {\n",
       "        text-align: right;\n",
       "    }\n",
       "</style>\n",
       "<table border=\"1\" class=\"dataframe\">\n",
       "  <thead>\n",
       "    <tr style=\"text-align: right;\">\n",
       "      <th></th>\n",
       "      <th>PCA1</th>\n",
       "      <th>PCA2</th>\n",
       "    </tr>\n",
       "  </thead>\n",
       "  <tbody>\n",
       "    <tr>\n",
       "      <th>0</th>\n",
       "      <td>2.620822</td>\n",
       "      <td>-1.437859</td>\n",
       "    </tr>\n",
       "    <tr>\n",
       "      <th>1</th>\n",
       "      <td>2.166446</td>\n",
       "      <td>0.732196</td>\n",
       "    </tr>\n",
       "    <tr>\n",
       "      <th>2</th>\n",
       "      <td>2.359265</td>\n",
       "      <td>-0.067934</td>\n",
       "    </tr>\n",
       "    <tr>\n",
       "      <th>3</th>\n",
       "      <td>1.518218</td>\n",
       "      <td>-0.792417</td>\n",
       "    </tr>\n",
       "    <tr>\n",
       "      <th>4</th>\n",
       "      <td>1.519920</td>\n",
       "      <td>0.451721</td>\n",
       "    </tr>\n",
       "  </tbody>\n",
       "</table>\n",
       "</div>"
      ],
      "text/plain": [
       "       PCA1      PCA2\n",
       "0  2.620822 -1.437859\n",
       "1  2.166446  0.732196\n",
       "2  2.359265 -0.067934\n",
       "3  1.518218 -0.792417\n",
       "4  1.519920  0.451721"
      ]
     },
     "execution_count": 36,
     "metadata": {
      "tags": []
     },
     "output_type": "execute_result"
    }
   ],
   "source": [
    "from sklearn.decomposition import PCA\n",
    "\n",
    "# We want to be able to plot this on a 2-D scatter plot so we choose 2 Dimensions\n",
    "dimension_we_want = 2\n",
    "\n",
    "pca = PCA(n_components=dimension_we_want)\n",
    "X_2d = pca.fit_transform(X) \n",
    "X_2d = pd.DataFrame(X_2d, columns=[\"PCA1\", \"PCA2\"])\n",
    "\n",
    "print(\"\\n% Variance Explained:\", pca.explained_variance_ratio_.sum(), end=\"\\n\\n\")\n",
    "X_2d.head()"
   ]
  },
  {
   "cell_type": "code",
   "execution_count": 0,
   "metadata": {
    "colab": {
     "base_uri": "https://localhost:8080/",
     "height": 296
    },
    "colab_type": "code",
    "id": "Gj87JXmmBdNu",
    "outputId": "4574186e-9f94-4b91-9cf9-ba4a68b9f866"
   },
   "outputs": [
    {
     "data": {
      "text/plain": [
       "<matplotlib.axes._subplots.AxesSubplot at 0x7f7e1cb29278>"
      ]
     },
     "execution_count": 37,
     "metadata": {
      "tags": []
     },
     "output_type": "execute_result"
    },
    {
     "data": {
      "image/png": "[encoded data removed]",
      "text/plain": [
       "<Figure size 432x288 with 1 Axes>"
      ]
     },
     "metadata": {
      "needs_background": "light",
      "tags": []
     },
     "output_type": "display_data"
    }
   ],
   "source": [
    "X_2d.plot.scatter(x=\"PCA1\", y=\"PCA2\")"
   ]
  },
  {
   "cell_type": "markdown",
   "metadata": {
    "colab_type": "text",
    "id": "cT7Rv9lEDSji"
   },
   "source": [
    "As we can see from above, the two new features (known as Principle Components) are not like any of our input features. Additionally, these two new components explains 64.6% of all the original variation. Let's see how well this performs in explaining our dataset."
   ]
  },
  {
   "cell_type": "code",
   "execution_count": 0,
   "metadata": {
    "colab": {},
    "colab_type": "code",
    "id": "eBHVGhd-CJF8"
   },
   "outputs": [],
   "source": [
    "reg = LinearRegression()\n",
    "\n",
    "reg.fit(X, y)\n",
    "print(\"All Features:\\t\\t\", reg.score(X, y))\n",
    "reg.fit(X_2d, y)\n",
    "print(\"With PCA Features:\\t\", reg.score(X_2d, y), end=\"\\n\\n\")"
   ]
  },
  {
   "cell_type": "markdown",
   "metadata": {
    "colab_type": "text",
    "id": "bsoN_a8XI4p2"
   },
   "source": [
    "As expected, with a higher explained variance ratio, we perform better in predicting the quality of the wine. With Dimensionality Reduction, we were able to capture most of the variation in the dataset while still being able to view it in two dimensions. In the most basic of terms, PCA creates a variable projected along the axis of maximum variable.\n",
    "\n",
    "![](https://raw.githubusercontent.com/bfkwong/data/master/IMG_0187%202.jpg)"
   ]
  },
  {
   "cell_type": "markdown",
   "metadata": {
    "colab_type": "text",
    "id": "vwDiZRX3JYLN"
   },
   "source": [
    "### Optional: Linear Algebra Behind PCA\n",
    "\n",
    "Principle Component Analysis chooses principle components along te **axis of greatest variance**. In Linear Algebra terms, the axis of greatest variance is the **Eigenvector with the largest Eigenvalue of the covariance matrix ($\\Sigma$)**\n",
    "\n",
    "The following are the steps in order to do PCA manually. \n",
    "\n",
    "1. Given data matrix $M$, generate the covariance matrix of $M$ denoted as $\\Sigma$\n",
    "2. We then compute the Eigenvector and Eigenvalue of covariance matrix $\\Sigma$\n",
    "3. Project the features to the Eigenvector with the largest Eigenvalue using the dot product (cross product for more than 1 dimensions)"
   ]
  },
  {
   "cell_type": "code",
   "execution_count": 0,
   "metadata": {
    "colab": {},
    "colab_type": "code",
    "id": "J26dEAoAD0q7"
   },
   "outputs": [],
   "source": [
    "import numpy as np\n",
    "\n",
    "# Step 1: Calculate covariance matrix \n",
    "cov_mtrx = np.cov(X.T)\n",
    "\n",
    "# Step 2: Calculate Eigenvector and Eigenvalue\n",
    "W,v = np.linalg.eig(cov_mtrx)\n",
    "\n",
    "# Step 3: Find the largest Eigenvalue and project our data onto the corresponding Eigenvector\n",
    "idx_largest_eigenval = np.argmax(W)\n",
    "eigenvec = v[:,idx_largest_eigenval]\n",
    "\n",
    "total = []\n",
    "for row in X.index: \n",
    "    total.append(np.dot(X.loc[row], eigenvec))\n",
    "\n",
    "pd.DataFrame(pd.Series(total), columns=[\"PCA1\"]).head()"
   ]
  },
  {
   "cell_type": "markdown",
   "metadata": {
    "colab_type": "text",
    "id": "_G7NWh_1nf_k"
   },
   "source": [
    "One interesting thing you may see here is that the eigenvalue corresponds to the variance explained by its corresponding eigenvalue. The eigenvalue of PCA1 is 2.26 and the variance of PCA1 is also 2.26"
   ]
  },
  {
   "cell_type": "code",
   "execution_count": 0,
   "metadata": {
    "colab": {},
    "colab_type": "code",
    "id": "9QCALn43iTYd"
   },
   "outputs": [],
   "source": [
    "idx_largest_eigenval = np.argmax(W)\n",
    "variance = pd.Series(total).var()\n",
    "\n",
    "print(\"Largest Eigenvalue:\\t\", W[idx_largest_eigenval])\n",
    "print(\"Variance of Eigenvector:\", variance)"
   ]
  },
  {
   "cell_type": "markdown",
   "metadata": {
    "colab_type": "text",
    "id": "bmLOaYzvEeG7"
   },
   "source": [
    "### Multidimensional Scaling (MDS)\n",
    "\n",
    "We now pay a visit to our good friend, the Euclidean distance. One incredibly useful aspect of Euclidean distance is that it works in higher dimensions. The formula $$\\sqrt{x_1^2 + x_2^2}$$ is for two dimensional Euclidean distance, but to move it to a third dimension, it is as easy as adding a $x^3$ variable. One thing to recognize is that Euclidean distance in all dimension is still a number. \n",
    "\n",
    "Why am I rambling on about something you learned in middle school? Well the realization that Euclidean distance is scalar in all dimensions means that we can preserve the variance of n-th dimensional data in two dimensions as long as we try to ensure that the Euclidean distances in the n-th dimensional is proportion to the Euclidean distance in 2 dimensions. That was a lot to take in, the following image explains the concept.\n",
    "\n",
    "![](https://raw.githubusercontent.com/bfkwong/data/master/IMG_0188.jpg)\n",
    "\n",
    "Notice how when we reduced our dimensions from 2 to 1, the distances between points A, B, and C remained the same. Meaning that x, y, and z remained the same between the two dimensions. While distances may not always be preserved perfectly between dimensions, MDS attempts to preserve it as well as possible.  "
   ]
  },
  {
   "cell_type": "code",
   "execution_count": 0,
   "metadata": {
    "colab": {},
    "colab_type": "code",
    "id": "L4AjVFrwn78I"
   },
   "outputs": [],
   "source": [
    "from sklearn.manifold import MDS\n",
    "# We want to be able to plot this on a 2-D scatter plot so we choose 2 Dimensions\n",
    "dimension_we_want = 2\n",
    "\n",
    "mds = MDS(n_components=dimension_we_want)\n",
    "X_2d = mds.fit_transform(X) \n",
    "X_2d = pd.DataFrame(X_2d, columns=[\"Dimension 1\", \"Dimension 2\"])\n",
    "\n",
    "display(X_2d.head())\n",
    "print(\"Percentage variance explained:\", X_2d.var().sum()/X.var().sum())\n",
    "X_2d.plot.scatter(x=\"Dimension 1\", y=\"Dimension 2\")"
   ]
  },
  {
   "cell_type": "markdown",
   "metadata": {
    "colab_type": "text",
    "id": "mlIA-o_cEnSD"
   },
   "source": [
    "By using MDS, we were actually able to preserve over 95% of the variance from the original datasets. "
   ]
  },
  {
   "cell_type": "markdown",
   "metadata": {
    "colab_type": "text",
    "id": "88kI9JxzFO6n"
   },
   "source": [
    "### Linear vs Nonlinear Dimensionality Reduction \n",
    "\n",
    "Thus far, we have explored PCA (a linear reduction technique) and MDS (a nonlinear reduction technique). While there are a lot of differences between the two methods. The key differences could be boiled down to just the following statement: **linear dimensionality reduction technique only stretch and shift the data while nonlinear techniques make more drastic changes to the data**.\n",
    "\n",
    "This sometimes leads to nonlinear techniques being better at capturing variance but losing the overall shape of the data whereas linear techniques are better at keeping the general shape of the original data but loses more variance along the way. "
   ]
  },
  {
   "cell_type": "markdown",
   "metadata": {
    "colab_type": "text",
    "id": "7uprQWlUGC37"
   },
   "source": [
    "# Exercises"
   ]
  },
  {
   "cell_type": "markdown",
   "metadata": {
    "colab_type": "text",
    "id": "UnMJKgsTkDoZ"
   },
   "source": [
    "1. Consider the Iris dataset (https://raw.githubusercontent.com/dlsun/pods/master/data/iris.csv). Drop the \"SepalWidth\" and \"PedalWidth\" columns and then apply PCA on \"SepalLength\" and \"PedalLength\" with `n_components = 2`. How many percent of the variance was PCA able to capture in this case? What happens when we use PCA to compress 2D data into 2D data?"
   ]
  },
  {
   "cell_type": "code",
   "execution_count": 0,
   "metadata": {
    "colab": {},
    "colab_type": "code",
    "id": "HCXKtA8AlSQq"
   },
   "outputs": [],
   "source": []
  }
 ],
 "metadata": {
  "colab": {
   "collapsed_sections": [],
   "name": "7.2 Visualizing Higher Dimensions.ipynb",
   "provenance": []
  },
  "kernelspec": {
   "display_name": "Python 3",
   "language": "python",
   "name": "python3"
  },
  "language_info": {
   "codemirror_mode": {
    "name": "ipython",
    "version": 3
   },
   "file_extension": ".py",
   "mimetype": "text/x-python",
   "name": "python",
   "nbconvert_exporter": "python",
   "pygments_lexer": "ipython3",
   "version": "3.7.4"
  }
 },
 "nbformat": 4,
 "nbformat_minor": 1
}
