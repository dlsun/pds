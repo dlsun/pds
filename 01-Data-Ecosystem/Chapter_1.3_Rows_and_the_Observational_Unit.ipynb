{
  "nbformat": 4,
  "nbformat_minor": 0,
  "metadata": {
    "colab": {
      "name": "Chapter 1.3 Rows and the Observational Unit",
      "provenance": [],
      "collapsed_sections": [],
      "include_colab_link": true
    },
    "kernelspec": {
      "name": "python3",
      "display_name": "Python 3"
    }
  },
  "cells": [
    {
      "cell_type": "markdown",
      "metadata": {
        "id": "view-in-github",
        "colab_type": "text"
      },
      "source": [
        "<a href=\"https://colab.research.google.com/github/dlsun/pods/blob/master/Chapter_01_The_Data_Ecosystem/Chapter_1.3_Rows_and_the_Observational_Unit.ipynb\" target=\"_parent\"><img src=\"https://colab.research.google.com/assets/colab-badge.svg\" alt=\"Open In Colab\"/></a>"
      ]
    },
    {
      "cell_type": "markdown",
      "metadata": {
        "id": "1X5JiiJ-8vWe",
        "colab_type": "text"
      },
      "source": [
        "# Rows and the Observational Unit\n",
        "\n",
        "Recall that the rows of a tabular data set represent observations. Whenever you encounter a new (tabular) data \n",
        "set, the first question you should ask yourself is\n",
        "\n",
        "> \"What is the observational unit?\"\n",
        "\n",
        "In other words, what does each row of the \n",
        "`DataFrame` represent? In the case of \n",
        "the OKCupid data set in the previous section, the observational unit was clearly an OKCupid user. But it is not always so obvious what the observational unit is.\n",
        "\n",
        "For example, consider the Framingham Heart Study data set, which is available at https://dlsun.github.io/pods/data/framingham_long.csv. \n",
        "This data comes from a study of men and women in \n",
        "the town of Framingham, Massachusetts, which has enrolled \n",
        "thousands of patients since it began in 1948 and is still ongoing. The goal of the study is to identify risk factors for cardivascular disease (CVD) by following the subjects over time. The data set that we will analyze was collected on 4,434 subjects between 1956 and 1968. A description of the data set is available [here](https://biolincc.nhlbi.nih.gov/media/teachingstudies/FHS_Teaching_Longitudinal_Data_Documentation_2021a.pdf).\n",
        "\n",
        "You might guess that the observational unit is a subject. Let's see if that guess is correct."
      ]
    },
    {
      "cell_type": "code",
      "metadata": {
        "id": "jsx-_UIF89Ip",
        "colab_type": "code",
        "outputId": "2c8b5537-22bc-4756-e394-b7a2a02e6ec6",
        "colab": {
          "base_uri": "https://localhost:8080/",
          "height": 215
        }
      },
      "source": [
        "import pandas as pd\n",
        "\n",
        "data_dir = \"https://dlsun.github.io/pods/data/\"\n",
        "df_framingham = pd.read_csv(data_dir + \"framingham_long.csv\")\n",
        "df_framingham.head()"
      ],
      "execution_count": 0,
      "outputs": [
        {
          "output_type": "execute_result",
          "data": {
            "text/html": [
              "<div>\n",
              "<style scoped>\n",
              "    .dataframe tbody tr th:only-of-type {\n",
              "        vertical-align: middle;\n",
              "    }\n",
              "\n",
              "    .dataframe tbody tr th {\n",
              "        vertical-align: top;\n",
              "    }\n",
              "\n",
              "    .dataframe thead th {\n",
              "        text-align: right;\n",
              "    }\n",
              "</style>\n",
              "<table border=\"1\" class=\"dataframe\">\n",
              "  <thead>\n",
              "    <tr style=\"text-align: right;\">\n",
              "      <th></th>\n",
              "      <th>RANDID</th>\n",
              "      <th>SEX</th>\n",
              "      <th>TOTCHOL</th>\n",
              "      <th>AGE</th>\n",
              "      <th>SYSBP</th>\n",
              "      <th>DIABP</th>\n",
              "      <th>CURSMOKE</th>\n",
              "      <th>CIGPDAY</th>\n",
              "      <th>BMI</th>\n",
              "      <th>DIABETES</th>\n",
              "      <th>BPMEDS</th>\n",
              "      <th>HEARTRTE</th>\n",
              "      <th>GLUCOSE</th>\n",
              "      <th>educ</th>\n",
              "      <th>PREVCHD</th>\n",
              "      <th>PREVAP</th>\n",
              "      <th>PREVMI</th>\n",
              "      <th>PREVSTRK</th>\n",
              "      <th>PREVHYP</th>\n",
              "      <th>TIME</th>\n",
              "      <th>PERIOD</th>\n",
              "      <th>HDLC</th>\n",
              "      <th>LDLC</th>\n",
              "      <th>DEATH</th>\n",
              "      <th>ANGINA</th>\n",
              "      <th>HOSPMI</th>\n",
              "      <th>MI_FCHD</th>\n",
              "      <th>ANYCHD</th>\n",
              "      <th>STROKE</th>\n",
              "      <th>CVD</th>\n",
              "      <th>HYPERTEN</th>\n",
              "      <th>TIMEAP</th>\n",
              "      <th>TIMEMI</th>\n",
              "      <th>TIMEMIFC</th>\n",
              "      <th>TIMECHD</th>\n",
              "      <th>TIMESTRK</th>\n",
              "      <th>TIMECVD</th>\n",
              "      <th>TIMEDTH</th>\n",
              "      <th>TIMEHYP</th>\n",
              "    </tr>\n",
              "  </thead>\n",
              "  <tbody>\n",
              "    <tr>\n",
              "      <th>0</th>\n",
              "      <td>2448</td>\n",
              "      <td>1</td>\n",
              "      <td>195.0</td>\n",
              "      <td>39</td>\n",
              "      <td>106.0</td>\n",
              "      <td>70.0</td>\n",
              "      <td>0</td>\n",
              "      <td>0.0</td>\n",
              "      <td>26.97</td>\n",
              "      <td>0</td>\n",
              "      <td>0.0</td>\n",
              "      <td>80.0</td>\n",
              "      <td>77.0</td>\n",
              "      <td>4.0</td>\n",
              "      <td>0</td>\n",
              "      <td>0</td>\n",
              "      <td>0</td>\n",
              "      <td>0</td>\n",
              "      <td>0</td>\n",
              "      <td>0</td>\n",
              "      <td>1</td>\n",
              "      <td>NaN</td>\n",
              "      <td>NaN</td>\n",
              "      <td>0</td>\n",
              "      <td>0</td>\n",
              "      <td>1</td>\n",
              "      <td>1</td>\n",
              "      <td>1</td>\n",
              "      <td>0</td>\n",
              "      <td>1</td>\n",
              "      <td>0</td>\n",
              "      <td>8766</td>\n",
              "      <td>6438</td>\n",
              "      <td>6438</td>\n",
              "      <td>6438</td>\n",
              "      <td>8766</td>\n",
              "      <td>6438</td>\n",
              "      <td>8766</td>\n",
              "      <td>8766</td>\n",
              "    </tr>\n",
              "    <tr>\n",
              "      <th>1</th>\n",
              "      <td>2448</td>\n",
              "      <td>1</td>\n",
              "      <td>209.0</td>\n",
              "      <td>52</td>\n",
              "      <td>121.0</td>\n",
              "      <td>66.0</td>\n",
              "      <td>0</td>\n",
              "      <td>0.0</td>\n",
              "      <td>NaN</td>\n",
              "      <td>0</td>\n",
              "      <td>0.0</td>\n",
              "      <td>69.0</td>\n",
              "      <td>92.0</td>\n",
              "      <td>4.0</td>\n",
              "      <td>0</td>\n",
              "      <td>0</td>\n",
              "      <td>0</td>\n",
              "      <td>0</td>\n",
              "      <td>0</td>\n",
              "      <td>4628</td>\n",
              "      <td>3</td>\n",
              "      <td>31.0</td>\n",
              "      <td>178.0</td>\n",
              "      <td>0</td>\n",
              "      <td>0</td>\n",
              "      <td>1</td>\n",
              "      <td>1</td>\n",
              "      <td>1</td>\n",
              "      <td>0</td>\n",
              "      <td>1</td>\n",
              "      <td>0</td>\n",
              "      <td>8766</td>\n",
              "      <td>6438</td>\n",
              "      <td>6438</td>\n",
              "      <td>6438</td>\n",
              "      <td>8766</td>\n",
              "      <td>6438</td>\n",
              "      <td>8766</td>\n",
              "      <td>8766</td>\n",
              "    </tr>\n",
              "    <tr>\n",
              "      <th>2</th>\n",
              "      <td>6238</td>\n",
              "      <td>2</td>\n",
              "      <td>250.0</td>\n",
              "      <td>46</td>\n",
              "      <td>121.0</td>\n",
              "      <td>81.0</td>\n",
              "      <td>0</td>\n",
              "      <td>0.0</td>\n",
              "      <td>28.73</td>\n",
              "      <td>0</td>\n",
              "      <td>0.0</td>\n",
              "      <td>95.0</td>\n",
              "      <td>76.0</td>\n",
              "      <td>2.0</td>\n",
              "      <td>0</td>\n",
              "      <td>0</td>\n",
              "      <td>0</td>\n",
              "      <td>0</td>\n",
              "      <td>0</td>\n",
              "      <td>0</td>\n",
              "      <td>1</td>\n",
              "      <td>NaN</td>\n",
              "      <td>NaN</td>\n",
              "      <td>0</td>\n",
              "      <td>0</td>\n",
              "      <td>0</td>\n",
              "      <td>0</td>\n",
              "      <td>0</td>\n",
              "      <td>0</td>\n",
              "      <td>0</td>\n",
              "      <td>0</td>\n",
              "      <td>8766</td>\n",
              "      <td>8766</td>\n",
              "      <td>8766</td>\n",
              "      <td>8766</td>\n",
              "      <td>8766</td>\n",
              "      <td>8766</td>\n",
              "      <td>8766</td>\n",
              "      <td>8766</td>\n",
              "    </tr>\n",
              "    <tr>\n",
              "      <th>3</th>\n",
              "      <td>6238</td>\n",
              "      <td>2</td>\n",
              "      <td>260.0</td>\n",
              "      <td>52</td>\n",
              "      <td>105.0</td>\n",
              "      <td>69.5</td>\n",
              "      <td>0</td>\n",
              "      <td>0.0</td>\n",
              "      <td>29.43</td>\n",
              "      <td>0</td>\n",
              "      <td>0.0</td>\n",
              "      <td>80.0</td>\n",
              "      <td>86.0</td>\n",
              "      <td>2.0</td>\n",
              "      <td>0</td>\n",
              "      <td>0</td>\n",
              "      <td>0</td>\n",
              "      <td>0</td>\n",
              "      <td>0</td>\n",
              "      <td>2156</td>\n",
              "      <td>2</td>\n",
              "      <td>NaN</td>\n",
              "      <td>NaN</td>\n",
              "      <td>0</td>\n",
              "      <td>0</td>\n",
              "      <td>0</td>\n",
              "      <td>0</td>\n",
              "      <td>0</td>\n",
              "      <td>0</td>\n",
              "      <td>0</td>\n",
              "      <td>0</td>\n",
              "      <td>8766</td>\n",
              "      <td>8766</td>\n",
              "      <td>8766</td>\n",
              "      <td>8766</td>\n",
              "      <td>8766</td>\n",
              "      <td>8766</td>\n",
              "      <td>8766</td>\n",
              "      <td>8766</td>\n",
              "    </tr>\n",
              "    <tr>\n",
              "      <th>4</th>\n",
              "      <td>6238</td>\n",
              "      <td>2</td>\n",
              "      <td>237.0</td>\n",
              "      <td>58</td>\n",
              "      <td>108.0</td>\n",
              "      <td>66.0</td>\n",
              "      <td>0</td>\n",
              "      <td>0.0</td>\n",
              "      <td>28.50</td>\n",
              "      <td>0</td>\n",
              "      <td>0.0</td>\n",
              "      <td>80.0</td>\n",
              "      <td>71.0</td>\n",
              "      <td>2.0</td>\n",
              "      <td>0</td>\n",
              "      <td>0</td>\n",
              "      <td>0</td>\n",
              "      <td>0</td>\n",
              "      <td>0</td>\n",
              "      <td>4344</td>\n",
              "      <td>3</td>\n",
              "      <td>54.0</td>\n",
              "      <td>141.0</td>\n",
              "      <td>0</td>\n",
              "      <td>0</td>\n",
              "      <td>0</td>\n",
              "      <td>0</td>\n",
              "      <td>0</td>\n",
              "      <td>0</td>\n",
              "      <td>0</td>\n",
              "      <td>0</td>\n",
              "      <td>8766</td>\n",
              "      <td>8766</td>\n",
              "      <td>8766</td>\n",
              "      <td>8766</td>\n",
              "      <td>8766</td>\n",
              "      <td>8766</td>\n",
              "      <td>8766</td>\n",
              "      <td>8766</td>\n",
              "    </tr>\n",
              "  </tbody>\n",
              "</table>\n",
              "</div>"
            ],
            "text/plain": [
              "   RANDID  SEX  TOTCHOL  AGE  ...  TIMESTRK  TIMECVD  TIMEDTH  TIMEHYP\n",
              "0    2448    1    195.0   39  ...      8766     6438     8766     8766\n",
              "1    2448    1    209.0   52  ...      8766     6438     8766     8766\n",
              "2    6238    2    250.0   46  ...      8766     8766     8766     8766\n",
              "3    6238    2    260.0   52  ...      8766     8766     8766     8766\n",
              "4    6238    2    237.0   58  ...      8766     8766     8766     8766\n",
              "\n",
              "[5 rows x 39 columns]"
            ]
          },
          "metadata": {
            "tags": []
          },
          "execution_count": 36
        }
      ]
    },
    {
      "cell_type": "markdown",
      "metadata": {
        "id": "9Ba16vOJgtNS",
        "colab_type": "text"
      },
      "source": [
        "Each `RANDID` corresponds to a unique subject in the study, but each subject appears multiple times in the data set. That is because this is a longitudinal study; each subject was measured at multiple points during their lifetime. So the observational unit in the Framingham Heart Study data set is a _measurement_ of a subject at a point in time.\n",
        "\n",
        "If there is a variable or a set of variables in the data set that uniquely identifies the observational unit, then it is customary to make those variables the index of the `DataFrame`. In the Framingham data set, `RANDID` and `TIME` uniquely identify the observational unit, so we move these columns to the index. (Notice that we specify `inplace=True` so that `.set_index()` modifies the existing `DataFrame` rather than returning a new one.)"
      ]
    },
    {
      "cell_type": "code",
      "metadata": {
        "id": "pd-r5l0HgZT5",
        "colab_type": "code",
        "outputId": "d318f66f-5f2e-473f-b0d6-b47c5ef62cba",
        "colab": {
          "base_uri": "https://localhost:8080/",
          "height": 245
        }
      },
      "source": [
        "df_framingham.set_index([\"RANDID\", \"TIME\"], inplace=True)\n",
        "df_framingham.head()"
      ],
      "execution_count": 0,
      "outputs": [
        {
          "output_type": "execute_result",
          "data": {
            "text/html": [
              "<div>\n",
              "<style scoped>\n",
              "    .dataframe tbody tr th:only-of-type {\n",
              "        vertical-align: middle;\n",
              "    }\n",
              "\n",
              "    .dataframe tbody tr th {\n",
              "        vertical-align: top;\n",
              "    }\n",
              "\n",
              "    .dataframe thead th {\n",
              "        text-align: right;\n",
              "    }\n",
              "</style>\n",
              "<table border=\"1\" class=\"dataframe\">\n",
              "  <thead>\n",
              "    <tr style=\"text-align: right;\">\n",
              "      <th></th>\n",
              "      <th></th>\n",
              "      <th>SEX</th>\n",
              "      <th>TOTCHOL</th>\n",
              "      <th>AGE</th>\n",
              "      <th>SYSBP</th>\n",
              "      <th>DIABP</th>\n",
              "      <th>CURSMOKE</th>\n",
              "      <th>CIGPDAY</th>\n",
              "      <th>BMI</th>\n",
              "      <th>DIABETES</th>\n",
              "      <th>BPMEDS</th>\n",
              "      <th>HEARTRTE</th>\n",
              "      <th>GLUCOSE</th>\n",
              "      <th>educ</th>\n",
              "      <th>PREVCHD</th>\n",
              "      <th>PREVAP</th>\n",
              "      <th>PREVMI</th>\n",
              "      <th>PREVSTRK</th>\n",
              "      <th>PREVHYP</th>\n",
              "      <th>PERIOD</th>\n",
              "      <th>HDLC</th>\n",
              "      <th>LDLC</th>\n",
              "      <th>DEATH</th>\n",
              "      <th>ANGINA</th>\n",
              "      <th>HOSPMI</th>\n",
              "      <th>MI_FCHD</th>\n",
              "      <th>ANYCHD</th>\n",
              "      <th>STROKE</th>\n",
              "      <th>CVD</th>\n",
              "      <th>HYPERTEN</th>\n",
              "      <th>TIMEAP</th>\n",
              "      <th>TIMEMI</th>\n",
              "      <th>TIMEMIFC</th>\n",
              "      <th>TIMECHD</th>\n",
              "      <th>TIMESTRK</th>\n",
              "      <th>TIMECVD</th>\n",
              "      <th>TIMEDTH</th>\n",
              "      <th>TIMEHYP</th>\n",
              "    </tr>\n",
              "    <tr>\n",
              "      <th>RANDID</th>\n",
              "      <th>TIME</th>\n",
              "      <th></th>\n",
              "      <th></th>\n",
              "      <th></th>\n",
              "      <th></th>\n",
              "      <th></th>\n",
              "      <th></th>\n",
              "      <th></th>\n",
              "      <th></th>\n",
              "      <th></th>\n",
              "      <th></th>\n",
              "      <th></th>\n",
              "      <th></th>\n",
              "      <th></th>\n",
              "      <th></th>\n",
              "      <th></th>\n",
              "      <th></th>\n",
              "      <th></th>\n",
              "      <th></th>\n",
              "      <th></th>\n",
              "      <th></th>\n",
              "      <th></th>\n",
              "      <th></th>\n",
              "      <th></th>\n",
              "      <th></th>\n",
              "      <th></th>\n",
              "      <th></th>\n",
              "      <th></th>\n",
              "      <th></th>\n",
              "      <th></th>\n",
              "      <th></th>\n",
              "      <th></th>\n",
              "      <th></th>\n",
              "      <th></th>\n",
              "      <th></th>\n",
              "      <th></th>\n",
              "      <th></th>\n",
              "      <th></th>\n",
              "    </tr>\n",
              "  </thead>\n",
              "  <tbody>\n",
              "    <tr>\n",
              "      <th rowspan=\"2\" valign=\"top\">2448</th>\n",
              "      <th>0</th>\n",
              "      <td>1</td>\n",
              "      <td>195.0</td>\n",
              "      <td>39</td>\n",
              "      <td>106.0</td>\n",
              "      <td>70.0</td>\n",
              "      <td>0</td>\n",
              "      <td>0.0</td>\n",
              "      <td>26.97</td>\n",
              "      <td>0</td>\n",
              "      <td>0.0</td>\n",
              "      <td>80.0</td>\n",
              "      <td>77.0</td>\n",
              "      <td>4.0</td>\n",
              "      <td>0</td>\n",
              "      <td>0</td>\n",
              "      <td>0</td>\n",
              "      <td>0</td>\n",
              "      <td>0</td>\n",
              "      <td>1</td>\n",
              "      <td>NaN</td>\n",
              "      <td>NaN</td>\n",
              "      <td>0</td>\n",
              "      <td>0</td>\n",
              "      <td>1</td>\n",
              "      <td>1</td>\n",
              "      <td>1</td>\n",
              "      <td>0</td>\n",
              "      <td>1</td>\n",
              "      <td>0</td>\n",
              "      <td>8766</td>\n",
              "      <td>6438</td>\n",
              "      <td>6438</td>\n",
              "      <td>6438</td>\n",
              "      <td>8766</td>\n",
              "      <td>6438</td>\n",
              "      <td>8766</td>\n",
              "      <td>8766</td>\n",
              "    </tr>\n",
              "    <tr>\n",
              "      <th>4628</th>\n",
              "      <td>1</td>\n",
              "      <td>209.0</td>\n",
              "      <td>52</td>\n",
              "      <td>121.0</td>\n",
              "      <td>66.0</td>\n",
              "      <td>0</td>\n",
              "      <td>0.0</td>\n",
              "      <td>NaN</td>\n",
              "      <td>0</td>\n",
              "      <td>0.0</td>\n",
              "      <td>69.0</td>\n",
              "      <td>92.0</td>\n",
              "      <td>4.0</td>\n",
              "      <td>0</td>\n",
              "      <td>0</td>\n",
              "      <td>0</td>\n",
              "      <td>0</td>\n",
              "      <td>0</td>\n",
              "      <td>3</td>\n",
              "      <td>31.0</td>\n",
              "      <td>178.0</td>\n",
              "      <td>0</td>\n",
              "      <td>0</td>\n",
              "      <td>1</td>\n",
              "      <td>1</td>\n",
              "      <td>1</td>\n",
              "      <td>0</td>\n",
              "      <td>1</td>\n",
              "      <td>0</td>\n",
              "      <td>8766</td>\n",
              "      <td>6438</td>\n",
              "      <td>6438</td>\n",
              "      <td>6438</td>\n",
              "      <td>8766</td>\n",
              "      <td>6438</td>\n",
              "      <td>8766</td>\n",
              "      <td>8766</td>\n",
              "    </tr>\n",
              "    <tr>\n",
              "      <th rowspan=\"3\" valign=\"top\">6238</th>\n",
              "      <th>0</th>\n",
              "      <td>2</td>\n",
              "      <td>250.0</td>\n",
              "      <td>46</td>\n",
              "      <td>121.0</td>\n",
              "      <td>81.0</td>\n",
              "      <td>0</td>\n",
              "      <td>0.0</td>\n",
              "      <td>28.73</td>\n",
              "      <td>0</td>\n",
              "      <td>0.0</td>\n",
              "      <td>95.0</td>\n",
              "      <td>76.0</td>\n",
              "      <td>2.0</td>\n",
              "      <td>0</td>\n",
              "      <td>0</td>\n",
              "      <td>0</td>\n",
              "      <td>0</td>\n",
              "      <td>0</td>\n",
              "      <td>1</td>\n",
              "      <td>NaN</td>\n",
              "      <td>NaN</td>\n",
              "      <td>0</td>\n",
              "      <td>0</td>\n",
              "      <td>0</td>\n",
              "      <td>0</td>\n",
              "      <td>0</td>\n",
              "      <td>0</td>\n",
              "      <td>0</td>\n",
              "      <td>0</td>\n",
              "      <td>8766</td>\n",
              "      <td>8766</td>\n",
              "      <td>8766</td>\n",
              "      <td>8766</td>\n",
              "      <td>8766</td>\n",
              "      <td>8766</td>\n",
              "      <td>8766</td>\n",
              "      <td>8766</td>\n",
              "    </tr>\n",
              "    <tr>\n",
              "      <th>2156</th>\n",
              "      <td>2</td>\n",
              "      <td>260.0</td>\n",
              "      <td>52</td>\n",
              "      <td>105.0</td>\n",
              "      <td>69.5</td>\n",
              "      <td>0</td>\n",
              "      <td>0.0</td>\n",
              "      <td>29.43</td>\n",
              "      <td>0</td>\n",
              "      <td>0.0</td>\n",
              "      <td>80.0</td>\n",
              "      <td>86.0</td>\n",
              "      <td>2.0</td>\n",
              "      <td>0</td>\n",
              "      <td>0</td>\n",
              "      <td>0</td>\n",
              "      <td>0</td>\n",
              "      <td>0</td>\n",
              "      <td>2</td>\n",
              "      <td>NaN</td>\n",
              "      <td>NaN</td>\n",
              "      <td>0</td>\n",
              "      <td>0</td>\n",
              "      <td>0</td>\n",
              "      <td>0</td>\n",
              "      <td>0</td>\n",
              "      <td>0</td>\n",
              "      <td>0</td>\n",
              "      <td>0</td>\n",
              "      <td>8766</td>\n",
              "      <td>8766</td>\n",
              "      <td>8766</td>\n",
              "      <td>8766</td>\n",
              "      <td>8766</td>\n",
              "      <td>8766</td>\n",
              "      <td>8766</td>\n",
              "      <td>8766</td>\n",
              "    </tr>\n",
              "    <tr>\n",
              "      <th>4344</th>\n",
              "      <td>2</td>\n",
              "      <td>237.0</td>\n",
              "      <td>58</td>\n",
              "      <td>108.0</td>\n",
              "      <td>66.0</td>\n",
              "      <td>0</td>\n",
              "      <td>0.0</td>\n",
              "      <td>28.50</td>\n",
              "      <td>0</td>\n",
              "      <td>0.0</td>\n",
              "      <td>80.0</td>\n",
              "      <td>71.0</td>\n",
              "      <td>2.0</td>\n",
              "      <td>0</td>\n",
              "      <td>0</td>\n",
              "      <td>0</td>\n",
              "      <td>0</td>\n",
              "      <td>0</td>\n",
              "      <td>3</td>\n",
              "      <td>54.0</td>\n",
              "      <td>141.0</td>\n",
              "      <td>0</td>\n",
              "      <td>0</td>\n",
              "      <td>0</td>\n",
              "      <td>0</td>\n",
              "      <td>0</td>\n",
              "      <td>0</td>\n",
              "      <td>0</td>\n",
              "      <td>0</td>\n",
              "      <td>8766</td>\n",
              "      <td>8766</td>\n",
              "      <td>8766</td>\n",
              "      <td>8766</td>\n",
              "      <td>8766</td>\n",
              "      <td>8766</td>\n",
              "      <td>8766</td>\n",
              "      <td>8766</td>\n",
              "    </tr>\n",
              "  </tbody>\n",
              "</table>\n",
              "</div>"
            ],
            "text/plain": [
              "             SEX  TOTCHOL  AGE  SYSBP  ...  TIMESTRK  TIMECVD  TIMEDTH  TIMEHYP\n",
              "RANDID TIME                            ...                                     \n",
              "2448   0       1    195.0   39  106.0  ...      8766     6438     8766     8766\n",
              "       4628    1    209.0   52  121.0  ...      8766     6438     8766     8766\n",
              "6238   0       2    250.0   46  121.0  ...      8766     8766     8766     8766\n",
              "       2156    2    260.0   52  105.0  ...      8766     8766     8766     8766\n",
              "       4344    2    237.0   58  108.0  ...      8766     8766     8766     8766\n",
              "\n",
              "[5 rows x 37 columns]"
            ]
          },
          "metadata": {
            "tags": []
          },
          "execution_count": 37
        }
      ]
    },
    {
      "cell_type": "markdown",
      "metadata": {
        "id": "5hL9M1z7n4Rp",
        "colab_type": "text"
      },
      "source": [
        "## Selecting Rows\n",
        "\n",
        "We can select an individual row from a `DataFrame` using its label in the index. For example, the fourth row in the Framingham data set above has label `(6238, 2156)`. The `.loc` attribute of the `DataFrame` is used to select a row by its label. "
      ]
    },
    {
      "cell_type": "code",
      "metadata": {
        "id": "mXJ0uhZOnHQ6",
        "colab_type": "code",
        "colab": {}
      },
      "source": [
        "row = df_framingham.loc[(6238, 2156)]\n",
        "row"
      ],
      "execution_count": 0,
      "outputs": []
    },
    {
      "cell_type": "markdown",
      "metadata": {
        "id": "4wWzsdsdo7PH",
        "colab_type": "text"
      },
      "source": [
        "We can also select a row by its position using the `.iloc` attribute. Keeping in mind that the first row is actually row 0, the fourth row could also be extracted as:"
      ]
    },
    {
      "cell_type": "code",
      "metadata": {
        "id": "7D4_bbzwo7Cm",
        "colab_type": "code",
        "colab": {}
      },
      "source": [
        "df_framingham.iloc[3]"
      ],
      "execution_count": 0,
      "outputs": []
    },
    {
      "cell_type": "markdown",
      "metadata": {
        "id": "ZGVvJwgnoZd7",
        "colab_type": "text"
      },
      "source": [
        "Notice that a single row from a `DataFrame` is no longer a `DataFrame` but a different data structure, called a `Series`."
      ]
    },
    {
      "cell_type": "code",
      "metadata": {
        "id": "jYV8NFGQoEOL",
        "colab_type": "code",
        "colab": {}
      },
      "source": [
        "type(row)"
      ],
      "execution_count": 0,
      "outputs": []
    },
    {
      "cell_type": "markdown",
      "metadata": {
        "id": "vVbqeHPfomMN",
        "colab_type": "text"
      },
      "source": [
        "We can also select multiple rows by passing a _list_ of labels or positions to `.loc` and `.iloc`, respectively."
      ]
    },
    {
      "cell_type": "code",
      "metadata": {
        "id": "bH3i9bF_odFR",
        "colab_type": "code",
        "colab": {}
      },
      "source": [
        "rows = df_framingham.loc[[(2448, 4628), (6238, 2156)]]\n",
        "rows"
      ],
      "execution_count": 0,
      "outputs": []
    },
    {
      "cell_type": "code",
      "metadata": {
        "id": "J7h1BComoyn8",
        "colab_type": "code",
        "colab": {}
      },
      "source": [
        "df_framingham.iloc[[1, 3]]"
      ],
      "execution_count": 0,
      "outputs": []
    },
    {
      "cell_type": "markdown",
      "metadata": {
        "id": "dGptztglqsj0",
        "colab_type": "text"
      },
      "source": [
        "Notice that when we select multiple rows, we get a `DataFrame` back."
      ]
    },
    {
      "cell_type": "code",
      "metadata": {
        "id": "y7rQhUtKqdGI",
        "colab_type": "code",
        "colab": {}
      },
      "source": [
        "type(rows)"
      ],
      "execution_count": 0,
      "outputs": []
    },
    {
      "cell_type": "markdown",
      "metadata": {
        "id": "BeR4x4lwthcz",
        "colab_type": "text"
      },
      "source": [
        "So a `Series` is used to store a single observation (across multiple variables), while a `DataFrame` is used to store multiple observations (across multiple variables)."
      ]
    },
    {
      "cell_type": "markdown",
      "metadata": {
        "id": "qpBmZ0E-uccO",
        "colab_type": "text"
      },
      "source": [
        "If selecting consecutive rows, we can use Python's `slice` notation. For example, the code below selects all rows from the fourth row, up to (but not including) the tenth row."
      ]
    },
    {
      "cell_type": "code",
      "metadata": {
        "id": "JBcVmf3OucRy",
        "colab_type": "code",
        "colab": {}
      },
      "source": [
        "df_framingham.iloc[3:9]"
      ],
      "execution_count": 0,
      "outputs": []
    },
    {
      "cell_type": "markdown",
      "metadata": {
        "id": "1olq9GiluBkS",
        "colab_type": "text"
      },
      "source": [
        "## Exercises\n",
        "\n",
        "\n",
        "\n"
      ]
    },
    {
      "cell_type": "markdown",
      "metadata": {
        "id": "gOvIOS0yu_U-",
        "colab_type": "text"
      },
      "source": [
        "1\\. Suppose you want to extract just the fourth row from the Framingham data set, but you want the result to be a `DataFrame` instead of a `Series`. In other words, you want a `DataFrame` with a single row. Can you figure out how to accomplish this?"
      ]
    },
    {
      "cell_type": "code",
      "metadata": {
        "id": "l2vtHtvGq1oL",
        "colab_type": "code",
        "colab": {}
      },
      "source": [
        "# YOUR CODE HERE"
      ],
      "execution_count": 0,
      "outputs": []
    },
    {
      "cell_type": "markdown",
      "metadata": {
        "id": "wToTIimPw47d",
        "colab_type": "text"
      },
      "source": [
        "Questions 2-4 deal with the Titanic data set (https://dlsun.github.io/pods/data/titanic.csv) contains information about 2206 passengers and crew members that were aboard the RMS Titanic when it sank on April 15, 1912."
      ]
    },
    {
      "cell_type": "markdown",
      "metadata": {
        "id": "QvKrAjkYKo8Z",
        "colab_type": "text"
      },
      "source": [
        "2\\. Read in the Titanic data set. What is the observational unit?"
      ]
    },
    {
      "cell_type": "code",
      "metadata": {
        "id": "lwwLT5OlKou2",
        "colab_type": "code",
        "colab": {}
      },
      "source": [
        "# YOUR CODE HERE"
      ],
      "execution_count": 0,
      "outputs": []
    },
    {
      "cell_type": "markdown",
      "metadata": {
        "id": "twoKAv96xeFC",
        "colab_type": "text"
      },
      "source": [
        "3\\. What column seems to be appropriate index for this data set? Do you see any problems with using this column as the index? (_Hint:_ Try looking up \"Kelly, Mr. James\" in this [passenger list](https://en.wikipedia.org/wiki/Passengers_of_the_Titanic#Passenger_list).)"
      ]
    },
    {
      "cell_type": "code",
      "metadata": {
        "id": "m1Flq8oSw4uC",
        "colab_type": "code",
        "colab": {}
      },
      "source": [
        "# YOUR CODE HERE"
      ],
      "execution_count": 0,
      "outputs": []
    },
    {
      "cell_type": "markdown",
      "metadata": {
        "id": "ZRXEkkJIyS9m",
        "colab_type": "text"
      },
      "source": [
        "4\\. Regardless of your reservations in the previous question, make \"name\" the index of the `DataFrame`. Use this to extract a `DataFrame` containing information about the three members of the Widener family:\n",
        "  - Widener, Mr. George Dunton\n",
        "  - Widener, Mr. Harry Elkins\n",
        "  - Widener, Mrs. Eleanor\n",
        "\n",
        "What became of them? Using a search engine, what else can you learn about them?\n"
      ]
    },
    {
      "cell_type": "code",
      "metadata": {
        "id": "a_dYbTUvxDTF",
        "colab_type": "code",
        "colab": {}
      },
      "source": [
        "# YOUR CODE HERE"
      ],
      "execution_count": 0,
      "outputs": []
    }
  ]
}