{
  "nbformat": 4,
  "nbformat_minor": 0,
  "metadata": {
    "colab": {
      "name": "Chapter 1.4 Columns and Variables",
      "provenance": [],
      "collapsed_sections": [],
      "include_colab_link": true
    },
    "kernelspec": {
      "name": "python3",
      "display_name": "Python 3"
    }
  },
  "cells": [
    {
      "cell_type": "markdown",
      "metadata": {
        "id": "view-in-github",
        "colab_type": "text"
      },
      "source": [
        "<a href=\"https://colab.research.google.com/github/dlsun/pods/blob/master/Chapter_01_The_Data_Ecosystem/Chapter_1.4_Columns_and_Variables.ipynb\" target=\"_parent\"><img src=\"https://colab.research.google.com/assets/colab-badge.svg\" alt=\"Open In Colab\"/></a>"
      ]
    },
    {
      "cell_type": "markdown",
      "metadata": {
        "id": "jDl1ZPzz08kD",
        "colab_type": "text"
      },
      "source": [
        "# Columns and Variables\n",
        "\n",
        "Recall that the columns of a tabular data set represent variables. They are the measurements that we make on each observation. \n",
        "\n",
        "As an example, let's consider the variables in the OKCupid data set. This data set does not have a natural index, so we use the default index (0, 1, 2, ...)."
      ]
    },
    {
      "cell_type": "code",
      "metadata": {
        "id": "-5F143Dj7OKh",
        "colab_type": "code",
        "colab": {}
      },
      "source": [
        "import pandas as pd\n",
        "\n",
        "data_dir = \"https://dlsun.github.io/pods/data/\"\n",
        "df_okcupid = pd.read_csv(data_dir + \"okcupid.csv\")\n",
        "df_okcupid.head()"
      ],
      "execution_count": 0,
      "outputs": []
    },
    {
      "cell_type": "markdown",
      "metadata": {
        "id": "_CScd5-542Ci",
        "colab_type": "text"
      },
      "source": [
        "## Types of Variables\n",
        "\n",
        "There is a fundamental difference between variables like `age` and `height`, which can be measured on a numeric scale, and variables like `religion` and `orientation`, which cannot be.\n",
        "\n",
        "Variables that can be measured on a numeric scale are called **quantitative variables**. Just because a variable happens to contain numbers does not necessarily make it \"quantitative\". For example, in the Framingham data set, the `SEX` column was coded as 1 for men and 2 for women. However, these numbers are not on any meaningful numerical scale; a woman is not \"twice\" a man.\n",
        "\n",
        "Variables that are not quantitative but take on a limited set of values are called **categorical variables**. For example, the variable `orientation` takes on one of only three values in this data set (gay, straight, or bisexual), so it is a categorical variable. So is the variable `religion`, which takes on a larger, but still limited, set of values. We call each possible value of a categorical variable a \"level\". Levels are usually non-numeric.\n",
        "\n",
        "Some variables do not fit neatly into either classification. For example, the variable `essay1` contains users' answers to the prompt \"What I’m doing with my life\". This variable is obviously not quantitative, but it is not categorical either because every user has a unique answer. In other words, this variable does not take on a limited set of values. We will group such variables into an \"other\" category.\n",
        "\n",
        "Every variable can be classified into one of these three **types**: \n",
        "- quantitative,\n",
        "- categorical, or\n",
        "- other. \n",
        "\n",
        "The type of the variable often dictates how we analyze that variable, as we will see in the next two chapters."
      ]
    },
    {
      "cell_type": "markdown",
      "metadata": {
        "id": "xZlpl3SVELs4",
        "colab_type": "text"
      },
      "source": [
        "## Selecting Variables\n",
        "\n",
        "Suppose we want to select the `age` column from the `DataFrame` above. There are three ways to do this."
      ]
    },
    {
      "cell_type": "markdown",
      "metadata": {
        "id": "vleFOfFYE82o",
        "colab_type": "text"
      },
      "source": [
        "1\\.  Use `.loc`, specifying both the rows and columns. (The colon `:` is Python shorthand for \"all\".)"
      ]
    },
    {
      "cell_type": "code",
      "metadata": {
        "id": "tYeLGCqtELgK",
        "colab_type": "code",
        "colab": {}
      },
      "source": [
        "df_okcupid.loc[:, \"age\"]"
      ],
      "execution_count": 0,
      "outputs": []
    },
    {
      "cell_type": "markdown",
      "metadata": {
        "id": "Zw1KEIjeFEbT",
        "colab_type": "text"
      },
      "source": [
        "2\\. Access the column as you would a key in a `dict`."
      ]
    },
    {
      "cell_type": "code",
      "metadata": {
        "id": "y7UY-QO_FEIT",
        "colab_type": "code",
        "colab": {}
      },
      "source": [
        "df_okcupid[\"age\"]"
      ],
      "execution_count": 0,
      "outputs": []
    },
    {
      "cell_type": "markdown",
      "metadata": {
        "id": "kixEblNxFMjs",
        "colab_type": "text"
      },
      "source": [
        "3\\. Access the column as an attribute of the `DataFrame`."
      ]
    },
    {
      "cell_type": "code",
      "metadata": {
        "id": "Iivsx62yFMYm",
        "colab_type": "code",
        "colab": {}
      },
      "source": [
        "df_okcupid.age"
      ],
      "execution_count": 0,
      "outputs": []
    },
    {
      "cell_type": "markdown",
      "metadata": {
        "id": "MqwcwoI_FZ9p",
        "colab_type": "text"
      },
      "source": [
        "Method 3 (attribute access) is the most concise. However, it does not work if the variable name contains spaces or special characters, begins with a number, or matches an existing attribute of `DataFrame`. For example, if `df_okcupid` had a column called `head`, `df_okcupid.head` would not return the column because `df_okcupid.head` is already reserved for something else."
      ]
    },
    {
      "cell_type": "markdown",
      "metadata": {
        "id": "TSTNcccjFx_Q",
        "colab_type": "text"
      },
      "source": [
        "Notice that a `Series` is used here to store a single variable (across multiple observations). In the previous section, we saw that a `Series` can also be used to store a single observation (across multiple columns). To summarize, the `Series` data structure is used to store either a single row or a single column in a tabular data set. In other words, while a `DataFrame` is two-dimensional (containing both rows and columns), a `Series` is one-dimensional."
      ]
    },
    {
      "cell_type": "markdown",
      "metadata": {
        "id": "Oh5YgoA7GrgG",
        "colab_type": "text"
      },
      "source": [
        "To select multiple columns, you would pass in a _list_ of variable names, instead of a single variable name. For example, to select both `age` and `religion`, either of the two methods below would work (and produce the same result):"
      ]
    },
    {
      "cell_type": "code",
      "metadata": {
        "id": "0WcfjkqGGvfw",
        "colab_type": "code",
        "colab": {}
      },
      "source": [
        "# METHOD 1\n",
        "df_okcupid.loc[:, [\"age\", \"religion\"]].head()\n",
        "\n",
        "# METHOD 2\n",
        "df_okcupid[[\"age\", \"religion\"]].head()"
      ],
      "execution_count": 0,
      "outputs": []
    },
    {
      "cell_type": "markdown",
      "metadata": {
        "id": "jHFdMuKxHQGh",
        "colab_type": "text"
      },
      "source": [
        "## Type Inference and Casting"
      ]
    },
    {
      "cell_type": "markdown",
      "metadata": {
        "id": "rQzO52mU49V5",
        "colab_type": "text"
      },
      "source": [
        "\n",
        "`pandas` tries to infer the type of each variable automatically. If every value in a column (except for missing values) is a number, then `pandas` will treat that variable as quantitative. Otherwise, the variable is treated as categorical. \n",
        "\n",
        "To determine the type that Pandas inferred, simply select that variable using the methods above and look for its `dtype`. A `dtype` of `float64` or `int64` indicates that the variable is quantitative.  For example, the `age` variable has a `dtype` of `int64`, so it is quantitative."
      ]
    },
    {
      "cell_type": "code",
      "metadata": {
        "id": "ryMiIIc41cYZ",
        "colab_type": "code",
        "colab": {}
      },
      "source": [
        "df_okcupid.age"
      ],
      "execution_count": 0,
      "outputs": []
    },
    {
      "cell_type": "markdown",
      "metadata": {
        "id": "Hp9eJzrcHnj8",
        "colab_type": "text"
      },
      "source": [
        "On the other hand, the `religion` variable has a `dtype` of `object`, so `pandas` will treat it as categorical."
      ]
    },
    {
      "cell_type": "code",
      "metadata": {
        "id": "G3pTtkAYHeLC",
        "colab_type": "code",
        "colab": {}
      },
      "source": [
        "df_okcupid.religion"
      ],
      "execution_count": 0,
      "outputs": []
    },
    {
      "cell_type": "markdown",
      "metadata": {
        "id": "iL7_9NjKJWaC",
        "colab_type": "text"
      },
      "source": [
        "Sometimes it is necessary to convert quantitative variables to categorical variables and vice versa. This can be achieved using the `.astype()` method of a `Series`. For example, to convert `age` to a categorical variable, we simply cast its values to strings."
      ]
    },
    {
      "cell_type": "code",
      "metadata": {
        "id": "RYkKhlT8IFlz",
        "colab_type": "code",
        "colab": {}
      },
      "source": [
        "df_okcupid.age.astype(str)"
      ],
      "execution_count": 0,
      "outputs": []
    },
    {
      "cell_type": "markdown",
      "metadata": {
        "id": "7PjCiv8KMaep",
        "colab_type": "text"
      },
      "source": [
        "To save this as a column in the `DataFrame`, we assign it to a column called `age_cat`. (Note that this column does not exist yet! It will be created at the time of assignment.)"
      ]
    },
    {
      "cell_type": "code",
      "metadata": {
        "id": "DYO8Nf7eMaMC",
        "colab_type": "code",
        "colab": {}
      },
      "source": [
        "df_okcupid[\"age_cat\"] = df_okcupid.age.astype(str)\n",
        "\n",
        "# Check that age_cat is a column in this DataFrame\n",
        "df_okcupid.head()"
      ],
      "execution_count": 0,
      "outputs": []
    },
    {
      "cell_type": "markdown",
      "metadata": {
        "id": "46Toey3KJmkw",
        "colab_type": "text"
      },
      "source": [
        "## Exercises"
      ]
    },
    {
      "cell_type": "markdown",
      "metadata": {
        "id": "VPWWaiMkJ8je",
        "colab_type": "text"
      },
      "source": [
        "Exercises 1-2 deal with the Titanic data set (https://dlsun.github.io/pods/data/titanic.csv)"
      ]
    },
    {
      "cell_type": "markdown",
      "metadata": {
        "id": "0pHYmVsPJx5V",
        "colab_type": "text"
      },
      "source": [
        "1\\. Read in the Titanic data set. Identify each variable in the Titanic data set as either quantitative, categorical, or other. Cast all variables to the right type and assign them back to the `DataFrame`. *Note: deciding the appropriate type can be tricky! Think carefully about the `'name'`, `'ticketno'`, and `'survived'` columns, in particular.*"
      ]
    },
    {
      "cell_type": "code",
      "metadata": {
        "id": "Ms1lIXsmJY7g",
        "colab_type": "code",
        "colab": {}
      },
      "source": [
        "# YOUR CODE HERE"
      ],
      "execution_count": 0,
      "outputs": []
    },
    {
      "cell_type": "markdown",
      "metadata": {
        "id": "yXE6l53nO14r",
        "colab_type": "text"
      },
      "source": [
        "2\\. Create a `DataFrame` (not a `Series`) consisting of just the `class` column."
      ]
    },
    {
      "cell_type": "code",
      "metadata": {
        "id": "iqTL7YA2Lz-j",
        "colab_type": "code",
        "colab": {}
      },
      "source": [
        "# YOUR CODE HERE"
      ],
      "execution_count": 0,
      "outputs": []
    }
  ]
}